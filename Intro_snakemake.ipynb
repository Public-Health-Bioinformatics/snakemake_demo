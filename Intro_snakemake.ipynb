{
 "cells": [
  {
   "cell_type": "markdown",
   "id": "arbitrary-palace",
   "metadata": {},
   "source": [
    "# Introduction to Snakemake\n",
    "---"
   ]
  },
  {
   "cell_type": "markdown",
   "id": "ancient-lingerie",
   "metadata": {},
   "source": [
    "<strong>Public Health Bioinormatics</strong> (Hsiao's lab) \n",
    "\n",
    "The materials are available on Github at https://github.com/Public-Health-Bioinformatics/snakemake_demo\n",
    "\n",
    "The Snakemake workflow management system is a tool to create reproducible and scalable data analyses. It orchestrates and keeps track of all the different steps of workflows that have been run. It becomes more and more popular because: \n",
    "\n",
    "- Snakemake is written using Python, but supports bash and R code as well.\n",
    "- It’s free, open-source, and conda-installable\n",
    "- Snakemake works cross-platform (Windows, MacOS, Linux) and cloud.\n",
    "\n",
    "Like other workflow management systems, Snakemake allows you to:\n",
    "\n",
    "- Keep a record of how your scripts are used and what their input dependencies are\n",
    "- Run multiple steps in sequence, parallelising where possible\n",
    "- Automatically detect if something changes and then reprocess data if needed\n"
   ]
  },
  {
   "cell_type": "markdown",
   "id": "essential-reset",
   "metadata": {},
   "source": [
    "## 1. installation\n",
    "Snakemake is available on PyPi as well as through Bioconda and also from source code. However, the recommended way of installation is using conda. "
   ]
  },
  {
   "cell_type": "markdown",
   "id": "passing-journey",
   "metadata": {},
   "source": [
    "### Install conda\n",
    "If you haven't had conda yet, you can install miniconda like this:"
   ]
  },
  {
   "cell_type": "code",
   "execution_count": null,
   "id": "experimental-prize",
   "metadata": {},
   "outputs": [],
   "source": [
    "wget https://repo.anaconda.com/miniconda/Miniconda3-latest-Linux-x86_64.sh"
   ]
  },
  {
   "cell_type": "code",
   "execution_count": null,
   "id": "hidden-lottery",
   "metadata": {},
   "outputs": [],
   "source": [
    "sh Miniconda3-latest-Linux-x86_64.sh"
   ]
  },
  {
   "cell_type": "markdown",
   "id": "subsequent-praise",
   "metadata": {},
   "source": [
    "### Install Snakemake through conda"
   ]
  },
  {
   "cell_type": "code",
   "execution_count": null,
   "id": "compressed-metro",
   "metadata": {},
   "outputs": [],
   "source": [
    "conda create -c bioconda -c conda-forge -n snakemake_demo snakemake-minimal -y"
   ]
  },
  {
   "cell_type": "markdown",
   "id": "prostate-premises",
   "metadata": {},
   "source": [
    "Or you can mount your existing conda environment, then install like this:"
   ]
  },
  {
   "cell_type": "code",
   "execution_count": null,
   "id": "transparent-cycling",
   "metadata": {},
   "outputs": [],
   "source": [
    "conda install snakemake-minimal"
   ]
  },
  {
   "cell_type": "markdown",
   "id": "interpreted-bloom",
   "metadata": {},
   "source": [
    "### Check if snakemake is working"
   ]
  },
  {
   "cell_type": "code",
   "execution_count": null,
   "id": "located-waterproof",
   "metadata": {},
   "outputs": [],
   "source": [
    "conda activate snakemake_demo"
   ]
  },
  {
   "cell_type": "code",
   "execution_count": null,
   "id": "solar-somerset",
   "metadata": {},
   "outputs": [],
   "source": [
    "snakemake --version"
   ]
  },
  {
   "cell_type": "markdown",
   "id": "eight-nevada",
   "metadata": {},
   "source": [
    "### To deactivate an active environment:"
   ]
  },
  {
   "cell_type": "code",
   "execution_count": null,
   "id": "coated-supplier",
   "metadata": {},
   "outputs": [],
   "source": [
    "conda deactivate"
   ]
  },
  {
   "cell_type": "markdown",
   "id": "naughty-ending",
   "metadata": {},
   "source": [
    "## 2. Basic rules of snakemake\n",
    "\n",
    "A Snakemake workflow defines a data analysis in terms of rules, that are listed in so-called Snakefiles. Most importantly, a rule can consist of a name, input files, output files, and a shell command to generate the output from the input.\n",
    "\n"
   ]
  },
  {
   "cell_type": "code",
   "execution_count": null,
   "id": "clinical-timber",
   "metadata": {},
   "outputs": [],
   "source": [
    "### Example 1.1\n",
    "\n",
    "```\n",
    "rule copy:\n",
    "    input:\n",
    "        \"A_input.txt\"\n",
    "    output:\n",
    "        \"A_copy.txt\"\n",
    "    shell:\n",
    "        \"cp {input} {output}\"\n",
    "```"
   ]
  },
  {
   "cell_type": "markdown",
   "id": "religious-recall",
   "metadata": {},
   "source": [
    "Let's make a file named Snakefile and put the above rule into the file. Tips: I have prepared the files and you can download from GitHub directly.To run the examples, you need to make sure to have Snakemake installed on your system either locally or in a snakemake specific conda environment:\n"
   ]
  },
  {
   "cell_type": "code",
   "execution_count": 16,
   "id": "authorized-penalty",
   "metadata": {},
   "outputs": [
    {
     "name": "stdout",
     "output_type": "stream",
     "text": [
      "Cloning into 'github.com'...\n",
      "fatal: repository 'https://github.com/' not found\n",
      "(snakemake_demo) "
     ]
    },
    {
     "ename": "",
     "evalue": "1",
     "output_type": "error",
     "traceback": []
    }
   ],
   "source": [
    "git clone --recursive https://github.com/Public-Health-Bioinformatics/snakemake_demo.git"
   ]
  },
  {
   "cell_type": "code",
   "execution_count": 1,
   "id": "awful-spectacular",
   "metadata": {},
   "outputs": [
    {
     "name": "stdout",
     "output_type": "stream",
     "text": [
      "bash: cd: snakemake_demo/demo_example/example_1/: No such file or directory\n",
      "/home/dj/snakemake_demo_work/snakemake_demo\n"
     ]
    }
   ],
   "source": [
    "cd snakemake_demo/demo_example/example_1/"
   ]
  },
  {
   "cell_type": "code",
   "execution_count": 2,
   "id": "empty-stack",
   "metadata": {},
   "outputs": [
    {
     "name": "stdout",
     "output_type": "stream",
     "text": [
      "/home/dj/snakemake_demo_work/snakemake_demo\n"
     ]
    }
   ],
   "source": [
    "pwd"
   ]
  },
  {
   "cell_type": "markdown",
   "id": "correct-donor",
   "metadata": {},
   "source": [
    "Let's do a dry run first."
   ]
  },
  {
   "cell_type": "code",
   "execution_count": null,
   "id": "western-amplifier",
   "metadata": {},
   "outputs": [],
   "source": [
    "snakemake -n -p"
   ]
  },
  {
   "cell_type": "markdown",
   "id": "precious-gross",
   "metadata": {},
   "source": [
    "Let's do a actual run"
   ]
  },
  {
   "cell_type": "code",
   "execution_count": null,
   "id": "dominican-damages",
   "metadata": {},
   "outputs": [],
   "source": [
    "snakemake -j 1"
   ]
  },
  {
   "cell_type": "markdown",
   "id": "signed-formula",
   "metadata": {},
   "source": [
    "### Example 1.2\n"
   ]
  },
  {
   "cell_type": "code",
   "execution_count": null,
   "id": "neutral-hindu",
   "metadata": {},
   "outputs": [],
   "source": [
    "After we copy the file, how can we change all the letters to upcase?"
   ]
  },
  {
   "cell_type": "code",
   "execution_count": null,
   "id": "regional-momentum",
   "metadata": {},
   "outputs": [],
   "source": [
    "```\n",
    "rule copy:\n",
    "    input:\n",
    "        \"A_input.txt\"\n",
    "    output:\n",
    "        \"A_copy.txt\"\n",
    "    shell:\n",
    "        \"cp {input} {output}\"\n",
    "\n",
    "rule uppercase:\n",
    "    input:\n",
    "        \"A_copy.txt\"\n",
    "    output:\n",
    "        \"A_output.txt\"\n",
    "    shell:\n",
    "        \"dd if={input} of={output} conv=ucase\"\n",
    "\n",
    "```"
   ]
  },
  {
   "cell_type": "code",
   "execution_count": 20,
   "id": "compatible-hurricane",
   "metadata": {},
   "outputs": [
    {
     "name": "stdout",
     "output_type": "stream",
     "text": [
      "\u001b[33mBuilding DAG of jobs...\u001b[0m\n",
      "\u001b[33mNothing to be done.\u001b[0m\n",
      "\u001b[33mComplete log: /home/dj/snakemake_demo/demo/example_1/.snakemake/log/2021-01-20T175530.945759.snakemake.log\u001b[0m\n",
      "(snakemake_demo) "
     ]
    },
    {
     "ename": "",
     "evalue": "1",
     "output_type": "error",
     "traceback": []
    }
   ],
   "source": [
    "snakemake -j 1 -s example_snakefile_1.1 A_output.txt"
   ]
  },
  {
   "cell_type": "markdown",
   "id": "opponent-holder",
   "metadata": {},
   "source": [
    "#### Generate DAG graph\n",
    "Snakemake is able to create a directed acyclic graph (DAG) that represents a plan of rule executions. The nodes of the DAG are jobs, a directed edge means the dependency.\n",
    "\n",
    "First, make sure graphviz is installed. If not, you can install it like this:\n"
   ]
  },
  {
   "cell_type": "code",
   "execution_count": null,
   "id": "chemical-alexander",
   "metadata": {},
   "outputs": [],
   "source": [
    "conda install graphviz -f"
   ]
  },
  {
   "cell_type": "markdown",
   "id": "criminal-visiting",
   "metadata": {},
   "source": [
    "Then you can generate the DAG graph:"
   ]
  },
  {
   "cell_type": "code",
   "execution_count": null,
   "id": "joined-interest",
   "metadata": {},
   "outputs": [],
   "source": [
    "snakemake -s example1.2_snakefile --dag  | dot -Tpng > dag.png"
   ]
  },
  {
   "cell_type": "markdown",
   "id": "straight-receiver",
   "metadata": {},
   "source": [
    "### Example 1.3"
   ]
  },
  {
   "cell_type": "markdown",
   "id": "veterinary-width",
   "metadata": {},
   "source": [
    "What should we do if we have multipe files to process like A_input.txt, B_input.txt, C_input.txt ..."
   ]
  },
  {
   "cell_type": "code",
   "execution_count": null,
   "id": "prime-newport",
   "metadata": {},
   "outputs": [],
   "source": [
    "```\n",
    "rule copy:\n",
    "    input:\n",
    "        \"{file}_input.txt\"\n",
    "    output:\n",
    "        \"{file}_copy.txt\"\n",
    "    shell:\n",
    "        \"cp {input} {output}\"\n",
    "\n",
    "rule uppercase:\n",
    "    input:\n",
    "        \"{file}_copy.txt\"\n",
    "    output:\n",
    "        \"{file}_output.txt\"\n",
    "    shell:\n",
    "        \"dd if={input} of={output} conv=ucase\"\n",
    "        \n",
    "```"
   ]
  },
  {
   "cell_type": "markdown",
   "id": "alike-denial",
   "metadata": {},
   "source": [
    "First, let's look at the DAG graph"
   ]
  },
  {
   "cell_type": "code",
   "execution_count": null,
   "id": "intensive-sample",
   "metadata": {},
   "outputs": [],
   "source": [
    "snakemake -s example1.3_snakefile --dag {A,B,C}_output.txt | dot -Tpng > dag.png"
   ]
  },
  {
   "cell_type": "code",
   "execution_count": null,
   "id": "premier-racing",
   "metadata": {},
   "outputs": [],
   "source": [
    "We can also do a dry run:"
   ]
  },
  {
   "cell_type": "code",
   "execution_count": null,
   "id": "appropriate-spelling",
   "metadata": {},
   "outputs": [],
   "source": [
    "snakemake -s example1.3_snakefile -n -p  {A,B,C}_output.txt"
   ]
  },
  {
   "cell_type": "markdown",
   "id": "environmental-alliance",
   "metadata": {},
   "source": [
    "### Example 1.4"
   ]
  },
  {
   "cell_type": "code",
   "execution_count": null,
   "id": "frank-sensitivity",
   "metadata": {},
   "outputs": [],
   "source": [
    "Another way of doing above jobs"
   ]
  },
  {
   "cell_type": "code",
   "execution_count": null,
   "id": "above-hopkins",
   "metadata": {},
   "outputs": [],
   "source": [
    "```\n",
    "datasets=[\"A\",\"B\",\"C\"]\n",
    "\n",
    "rule all:\n",
    "    input: \"all.txt\"\n",
    "        \n",
    "\n",
    "rule copy:\n",
    "    input:\n",
    "        \"{file}_input.txt\"\n",
    "    output:\n",
    "        \"{file}_copy.txt\"\n",
    "    shell:\n",
    "        \"cp {input} {output}\"\n",
    "\n",
    "rule uppercase:\n",
    "    input:\n",
    "        \"{file}_copy.txt\"\n",
    "    output:\n",
    "        \"{file}_output.txt\"\n",
    "    shell:\n",
    "        \"dd if={input} of={output} conv=ucase\"\n",
    "        \n",
    "rule combine:\n",
    "    input:\n",
    "        expand(\"{id}_output.txt\", id=datasets)\n",
    "    output:\n",
    "        \"all.txt\"\n",
    "    shell:\n",
    "        \"cat {input} > {output}\"\n",
    "        \n",
    "```"
   ]
  },
  {
   "cell_type": "code",
   "execution_count": null,
   "id": "understanding-possession",
   "metadata": {},
   "outputs": [],
   "source": [
    "snakemake -s example1.4_snakefile --dag | dot -Tpng > dag.png"
   ]
  },
  {
   "cell_type": "code",
   "execution_count": null,
   "id": "liable-transcription",
   "metadata": {},
   "outputs": [],
   "source": [
    "snakemake -s example1.4_snakefile -np"
   ]
  },
  {
   "cell_type": "markdown",
   "id": "metallic-insight",
   "metadata": {},
   "source": [
    "We can also put multiple dataset to expand. For example:\n",
    "\n",
    "expand([\"{dataset}.{ext}\", \"{dataset}.{ext}\"], dataset=[A1,A2], ext=[png,jpg])\n",
    "\n",
    "will lead to\n",
    "\n",
    "[\"A1.png\", \"A1.jpg\", \"A2.png\",\"A2.jpg\"]\n"
   ]
  },
  {
   "cell_type": "markdown",
   "id": "liked-christopher",
   "metadata": {},
   "source": [
    "We can generate snakemake report to get details about the running status. Before this, please make sure Jinja2, networkx, pygments and pygraphvi is installed. If not, please install it using conda.\n"
   ]
  },
  {
   "cell_type": "code",
   "execution_count": null,
   "id": "beginning-energy",
   "metadata": {},
   "outputs": [],
   "source": [
    "conda install networkx pygraphvi Jinja2 pygments -y"
   ]
  },
  {
   "cell_type": "code",
   "execution_count": null,
   "id": "referenced-formation",
   "metadata": {},
   "outputs": [],
   "source": [
    "snakemake -s example1.4_snakefile --report report.html"
   ]
  },
  {
   "cell_type": "markdown",
   "id": "looking-nightmare",
   "metadata": {},
   "source": [
    "### 3. More examples for data analysis"
   ]
  },
  {
   "cell_type": "markdown",
   "id": "square-compound",
   "metadata": {},
   "source": [
    "### Example 2.1\n",
    "\n",
    "let's start with some boring examples about using fastqc generate QC report\n"
   ]
  },
  {
   "cell_type": "code",
   "execution_count": 8,
   "id": "scheduled-semester",
   "metadata": {},
   "outputs": [
    {
     "name": "stdout",
     "output_type": "stream",
     "text": [
      "bash: cd: snakemake_demo/demo_example/example_2: No such file or directory\n"
     ]
    },
    {
     "ename": "",
     "evalue": "1",
     "output_type": "error",
     "traceback": []
    }
   ],
   "source": [
    "cd snakemake_demo/demo_example/example_2"
   ]
  },
  {
   "cell_type": "code",
   "execution_count": null,
   "id": "artistic-soldier",
   "metadata": {},
   "outputs": [],
   "source": [
    "conda activate snakemake_demo"
   ]
  },
  {
   "cell_type": "code",
   "execution_count": null,
   "id": "atmospheric-garage",
   "metadata": {},
   "outputs": [],
   "source": [
    "```\n",
    "# example_2.1\n",
    "rule fastqc:\n",
    "    input:\n",
    "        \"data/Sample1.fastq\"\n",
    "    output:\n",
    "        \"fastqc_result/Sample1_fastqc.html\"\n",
    "    conda: \n",
    "        \"env.yml\"\n",
    "    shell:\n",
    "        \"fastqc data/Sample1.fastq -o fastqc_result\"\n",
    "\n",
    "```"
   ]
  },
  {
   "cell_type": "code",
   "execution_count": null,
   "id": "threaded-choice",
   "metadata": {},
   "outputs": [],
   "source": [
    "snakemake -s example2.1.snakemake -j 1 --use-conda"
   ]
  },
  {
   "cell_type": "markdown",
   "id": "auburn-malaysia",
   "metadata": {},
   "source": [
    "### Example 2.2\n",
    "\n",
    "Let’s add a rule to run fastqc on a second file:"
   ]
  },
  {
   "cell_type": "code",
   "execution_count": null,
   "id": "controlling-scratch",
   "metadata": {},
   "outputs": [],
   "source": [
    "```\n",
    "# example_2.2\n",
    "\n",
    "rule fastqc1:\n",
    "    input:\n",
    "        \"data/Sample1.fastq\",\n",
    "    output:\n",
    "        \"fastqc_result/Sample1_fastqc.html\"\n",
    "    conda: \n",
    "        \"env.yml\"\n",
    "    shell:\n",
    "        \"fastqc data/Sample1.fastq -o fastqc_result\"\n",
    "\n",
    "rule fastqc2:\n",
    "    input:\n",
    "        \"data/Sample2.fastq\"\n",
    "    output:\n",
    "        \"fastqc_result/Sample2_fastqc.html\"\n",
    "    conda: \n",
    "        \"env.yml\"\n",
    "    shell:\n",
    "        \"fastqc data/Sample2.fastq -o fastqc_result\"\n",
    "```"
   ]
  },
  {
   "cell_type": "code",
   "execution_count": null,
   "id": "editorial-estimate",
   "metadata": {},
   "outputs": [],
   "source": [
    "snakemake -s example2.2.snakemake -j 1 --use-conda fastqc1 fastqc2"
   ]
  },
  {
   "cell_type": "markdown",
   "id": "combined-practice",
   "metadata": {},
   "source": [
    "<b>Note</b>: <b>snakemake only runs the first rule by default</b>. If you want to run both, you need to add rule names on the command line"
   ]
  },
  {
   "cell_type": "markdown",
   "id": "composite-closer",
   "metadata": {},
   "source": [
    "### Example 2.3\n",
    "\n",
    "Let’s see another way by adding <b>rule all</b>: which is a default rule that produces all the output files. Please note that <b>rule all only has input, and no output</b>! "
   ]
  },
  {
   "cell_type": "code",
   "execution_count": null,
   "id": "focal-watts",
   "metadata": {},
   "outputs": [],
   "source": [
    "```\n",
    "# example_2.3\n",
    "\n",
    "rule all:\n",
    "    input:\n",
    "        \"fastqc_result/Sample1_fastqc.html\",\n",
    "        \"fastqc_result/Sample2_fastqc.html\"\n",
    "    \n",
    "\n",
    "rule fastqc1:\n",
    "    input:\n",
    "        \"data/Sample1.fastq\",\n",
    "    output:\n",
    "        \"fastqc_result/Sample1_fastqc.html\"\n",
    "    conda: \n",
    "        \"env.yml\"\n",
    "    shell:\n",
    "        \"fastqc data/Sample1.fastq -o fastqc_result\"\n",
    "\n",
    "rule fastqc2:\n",
    "    input:\n",
    "        \"data/Sample2.fastq\"\n",
    "    output:\n",
    "        \"fastqc_result/Sample2_fastqc.html\"\n",
    "    conda: \n",
    "        \"env.yml\"\n",
    "    shell:\n",
    "        \"fastqc data/Sample2.fastq -o fastqc_result\"\n",
    "```"
   ]
  },
  {
   "cell_type": "code",
   "execution_count": null,
   "id": "sexual-economics",
   "metadata": {},
   "outputs": [],
   "source": [
    "snakemake -s example2.3.snakemake -j 1 --use-conda"
   ]
  },
  {
   "cell_type": "code",
   "execution_count": null,
   "id": "federal-original",
   "metadata": {},
   "outputs": [],
   "source": [
    "# Let’s rewrite the rule using some snakemake pattern matching:"
   ]
  },
  {
   "cell_type": "markdown",
   "id": "bulgarian-denver",
   "metadata": {},
   "source": [
    "### Example 2.4\n",
    "\n",
    "Let’s rewrite the rule using some snakemake <b>pattern matching</b>"
   ]
  },
  {
   "cell_type": "code",
   "execution_count": null,
   "id": "endangered-andrews",
   "metadata": {},
   "outputs": [],
   "source": [
    "```\n",
    "# example_2.4\n",
    "\n",
    "\n",
    "rule all:\n",
    "    input:\n",
    "        \"fastqc_result/Sample1_fastqc.html\",\n",
    "        \"fastqc_result/Sample2_fastqc.html\",\n",
    "    \n",
    "rule fastqc:\n",
    "    input:\n",
    "        \"data/{sampleName}.fastq\",\n",
    "    output:\n",
    "        \"fastqc_result/{sampleName}_fastqc.html\"\n",
    "    conda: \n",
    "        \"env.yml\"\n",
    "    shell:\n",
    "        \"fastqc {input} -o fastqc_result\"\n",
    "\n",
    "```"
   ]
  },
  {
   "cell_type": "code",
   "execution_count": null,
   "id": "responsible-jones",
   "metadata": {},
   "outputs": [],
   "source": [
    "snakemake -s example2.4.snakemake -j 1 --use-conda"
   ]
  },
  {
   "cell_type": "markdown",
   "id": "accredited-giving",
   "metadata": {},
   "source": [
    "### Example 2.5\n",
    "\n",
    "Let’s use another way to define the input files in the rule all:"
   ]
  },
  {
   "cell_type": "code",
   "execution_count": null,
   "id": "interstate-diameter",
   "metadata": {},
   "outputs": [],
   "source": [
    "```\n",
    "# example_2.5\n",
    "\n",
    "SAMPLES=[\"Sample1\",\"Sample2\",\"Sample3\"]\n",
    "\n",
    "rule all:\n",
    "    input:\n",
    "        expand(\"fastqc_result/{sampleName}_fastqc.html\", sampleName=SAMPLES)\n",
    "    \n",
    "rule fastqc:\n",
    "    input:\n",
    "        \"data/{sampleName}.fastq\",\n",
    "    output:\n",
    "        \"fastqc_result/{sampleName}_fastqc.html\"\n",
    "    conda: \n",
    "        \"env.yml\"\n",
    "    shell:\n",
    "        \"fastqc {input} -o fastqc_result\"\n",
    "\n",
    "\n",
    "```"
   ]
  },
  {
   "cell_type": "code",
   "execution_count": null,
   "id": "dependent-maple",
   "metadata": {},
   "outputs": [],
   "source": [
    "snakemake -s example2.5.snakemake -j 1 --use-conda    "
   ]
  },
  {
   "cell_type": "markdown",
   "id": "promotional-precipitation",
   "metadata": {},
   "source": [
    "### Example 2.6\n",
    "Let’s use another way more generic way to define the input files in the rule all:"
   ]
  },
  {
   "cell_type": "code",
   "execution_count": null,
   "id": "pending-layer",
   "metadata": {},
   "outputs": [],
   "source": [
    "```\n",
    "# example_2.6\n",
    "\n",
    "SAMPLES, = glob_wildcards(\"data/{sampleName}.fastq\")\n",
    "\n",
    "rule all:\n",
    "    input:\n",
    "        expand(\"fastqc_result/{sampleName}_fastqc.html\", sampleName=SAMPLES)\n",
    "    \n",
    "rule fastqc:\n",
    "    input:\n",
    "        \"data/{sampleName}.fastq\",\n",
    "    output:\n",
    "        \"fastqc_result/{sampleName}_fastqc.html\"\n",
    "    conda: \n",
    "        \"env.yml\"\n",
    "    shell:\n",
    "        \"fastqc {input} -o fastqc_result\"\n",
    "\n",
    "\n",
    "```"
   ]
  },
  {
   "cell_type": "code",
   "execution_count": null,
   "id": "invalid-furniture",
   "metadata": {},
   "outputs": [],
   "source": [
    "snakemake -s example2.6.snakemake -j 3 --use-conda"
   ]
  },
  {
   "cell_type": "markdown",
   "id": "compact-wisconsin",
   "metadata": {},
   "source": [
    "### Example 2.7\n",
    "Let’s add a rule to generate multiqc result:"
   ]
  },
  {
   "cell_type": "code",
   "execution_count": null,
   "id": "ready-shuttle",
   "metadata": {},
   "outputs": [],
   "source": [
    "```\n",
    "# example_2.7\n",
    "\n",
    "SAMPLES, = glob_wildcards(\"data/{sample}.fastq\")\n",
    "\n",
    "rule all:\n",
    "    input:\n",
    "        \"multiqc_result/multiqc_report.html\",\n",
    "\n",
    "rule fastqc:\n",
    "    input:\n",
    "        \"data/{sampleName}.fastq\",\n",
    "    output:\n",
    "        \"fastqc_result/{sampleName}_fastqc.html\"\n",
    "    conda: \n",
    "        \"env.yml\"\n",
    "    params:\n",
    "        threads= \"3\"\n",
    "    shell:\n",
    "        \"fastqc -t {params.threads} {input} -o fastqc_result\"\n",
    "\n",
    "\n",
    "rule multiqc: \n",
    "    input: \n",
    "        expand(\"fastqc_result/{sampleName}_fastqc.html\", sampleName=SAMPLES)\n",
    "    output:\n",
    "        \"multiqc_result/multiqc_report.html\"\n",
    "    conda: \n",
    "        \"env.yml\"\n",
    "    shell:\n",
    "        \"multiqc fastqc_result -o multiqc_result\"\n",
    "```"
   ]
  },
  {
   "cell_type": "code",
   "execution_count": null,
   "id": "hired-national",
   "metadata": {},
   "outputs": [],
   "source": [
    "snakemake -s example2.7.snakemake -j 3 --dag | dot -Tpng >dag.png"
   ]
  },
  {
   "cell_type": "code",
   "execution_count": null,
   "id": "played-relation",
   "metadata": {},
   "outputs": [],
   "source": [
    "snakemake -s example2.7.snakemake -j 3 --use-conda"
   ]
  },
  {
   "cell_type": "code",
   "execution_count": null,
   "id": "tired-sarah",
   "metadata": {},
   "outputs": [],
   "source": [
    "snakemake -s example2.7.snakemak --report report.html"
   ]
  },
  {
   "cell_type": "markdown",
   "id": "outstanding-catalog",
   "metadata": {},
   "source": [
    "## Resources"
   ]
  },
  {
   "cell_type": "markdown",
   "id": "muslim-indianapolis",
   "metadata": {},
   "source": [
    "### 1. Snakemake\n",
    "* Documentation: https://snakemake.readthedocs.io/\n",
    "*  Wrappers: https://snakemake-wrappers.readthedocs.io/\n",
    "* Snakemake-Workflows project: https://github.com/snakemake-workflows/docs\n",
    "*  Snakemake-Profiles project: https://github.com/snakemake-profiles/doc\n"
   ]
  },
  {
   "cell_type": "markdown",
   "id": "french-devon",
   "metadata": {},
   "source": [
    "### 2. Workflows\n",
    "* An incomplete list of 288 Computational Data Analysis Workflow Systems:\n",
    "https://github.com/common-workflow-language/common-workflow-language/wiki/Existing-Workflow-systems\n",
    "* A curated list of awesome pipeline toolkits:\n",
    "https://github.com/pditommaso/awesome-pipeline"
   ]
  },
  {
   "cell_type": "code",
   "execution_count": null,
   "id": "promising-september",
   "metadata": {},
   "outputs": [],
   "source": []
  }
 ],
 "metadata": {
  "kernelspec": {
   "display_name": "Bash",
   "language": "bash",
   "name": "bash"
  },
  "language_info": {
   "codemirror_mode": "shell",
   "file_extension": ".sh",
   "mimetype": "text/x-sh",
   "name": "bash"
  }
 },
 "nbformat": 4,
 "nbformat_minor": 5
}
