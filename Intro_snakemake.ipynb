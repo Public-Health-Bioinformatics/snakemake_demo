{
 "cells": [
  {
   "cell_type": "markdown",
   "id": "indirect-wrestling",
   "metadata": {},
   "source": [
    "# Introduction to Snakemake\n",
    "---"
   ]
  },
  {
   "cell_type": "markdown",
   "id": "ecological-allah",
   "metadata": {},
   "source": [
    "<strong>Public Health Bioinormatics</strong> (Hsiao's lab) \n",
    "\n",
    "The materials are available on Github at https://github.com/Public-Health-Bioinformatics/snakemake_demo\n",
    "\n",
    "The Snakemake workflow management system is a tool to create reproducible and scalable data analyses. It orchestrates and keeps track of all the different steps of workflows that have been run. It becomes more and more popular because: \n",
    "\n",
    "- Snakemake is written using Python, but supports bash and R code as well.\n",
    "- It’s free, open-source, and conda-installable\n",
    "- Snakemake works cross-platform (Windows, MacOS, Linux) and cloud.\n",
    "\n",
    "Like other workflow management systems, Snakemake allows you to:\n",
    "\n",
    "- Keep a record of how your scripts are used and what their input dependencies are\n",
    "- Run multiple steps in sequence, parallelising where possible\n",
    "- Automatically detect if something changes and then reprocess data if needed\n"
   ]
  },
  {
   "cell_type": "markdown",
   "id": "removable-venice",
   "metadata": {},
   "source": [
    "## 1. installation\n",
    "Snakemake is available on PyPi as well as through Bioconda and also from source code. However, the recommended way of installation is using conda. "
   ]
  },
  {
   "cell_type": "markdown",
   "id": "happy-proportion",
   "metadata": {},
   "source": [
    "### Install conda\n",
    "If you haven't had conda yet, you can install miniconda like this:"
   ]
  },
  {
   "cell_type": "code",
   "execution_count": null,
   "id": "relative-carry",
   "metadata": {},
   "outputs": [],
   "source": [
    "wget https://repo.anaconda.com/miniconda/Miniconda3-latest-Linux-x86_64.sh"
   ]
  },
  {
   "cell_type": "code",
   "execution_count": null,
   "id": "worth-satin",
   "metadata": {},
   "outputs": [],
   "source": [
    "sh Miniconda3-latest-Linux-x86_64.sh"
   ]
  },
  {
   "cell_type": "markdown",
   "id": "after-mount",
   "metadata": {},
   "source": [
    "### Install Snakemake through conda"
   ]
  },
  {
   "cell_type": "code",
   "execution_count": null,
   "id": "structured-kitty",
   "metadata": {},
   "outputs": [],
   "source": [
    "conda create -c bioconda -c conda-forge -n snakemake_demo snakemake-minimal -y"
   ]
  },
  {
   "cell_type": "markdown",
   "id": "contrary-mobility",
   "metadata": {},
   "source": [
    "Or you can mount your existing conda environment, then install like this:"
   ]
  },
  {
   "cell_type": "code",
   "execution_count": null,
   "id": "corresponding-instrument",
   "metadata": {},
   "outputs": [],
   "source": [
    "conda install snakemake-minimal"
   ]
  },
  {
   "cell_type": "markdown",
   "id": "seeing-canadian",
   "metadata": {},
   "source": [
    "### Check if snakemake is working"
   ]
  },
  {
   "cell_type": "code",
   "execution_count": null,
   "id": "logical-procedure",
   "metadata": {},
   "outputs": [],
   "source": [
    "conda activate snakemake_demo"
   ]
  },
  {
   "cell_type": "code",
   "execution_count": null,
   "id": "cooperative-guatemala",
   "metadata": {},
   "outputs": [],
   "source": [
    "snakemake --version"
   ]
  },
  {
   "cell_type": "markdown",
   "id": "indian-mediterranean",
   "metadata": {},
   "source": [
    "### To deactivate an active environment:"
   ]
  },
  {
   "cell_type": "code",
   "execution_count": null,
   "id": "seasonal-spare",
   "metadata": {},
   "outputs": [],
   "source": [
    "conda deactivate"
   ]
  },
  {
   "cell_type": "markdown",
   "id": "medical-feelings",
   "metadata": {},
   "source": [
    "## 2. Basic rules of snakemake\n",
    "\n",
    "A Snakemake workflow defines a data analysis in terms of rules, that are listed in so-called Snakefiles. Most importantly, a rule can consist of a name, input files, output files, and a shell command to generate the output from the input.\n",
    "\n"
   ]
  },
  {
   "cell_type": "code",
   "execution_count": null,
   "id": "fixed-constitution",
   "metadata": {},
   "outputs": [],
   "source": [
    "### Example 1.1\n",
    "\n",
    "```\n",
    "rule copy:\n",
    "    input:\n",
    "        \"A_input.txt\"\n",
    "    output:\n",
    "        \"A_copy.txt\"\n",
    "    shell:\n",
    "        \"cp {input} {output}\"\n",
    "```"
   ]
  },
  {
   "cell_type": "markdown",
   "id": "narrow-hundred",
   "metadata": {},
   "source": [
    "Let's make a file named Snakefile and put the above rule into the file. Tips: I have prepared the files and you can download from GitHub directly.To run the examples, you need to make sure to have Snakemake installed on your system either locally or in a snakemake specific conda environment:\n"
   ]
  },
  {
   "cell_type": "code",
   "execution_count": 16,
   "id": "unique-origin",
   "metadata": {},
   "outputs": [
    {
     "name": "stdout",
     "output_type": "stream",
     "text": [
      "Cloning into 'github.com'...\n",
      "fatal: repository 'https://github.com/' not found\n",
      "(snakemake_demo) "
     ]
    },
    {
     "ename": "",
     "evalue": "1",
     "output_type": "error",
     "traceback": []
    }
   ],
   "source": [
    "git clone --recursive https://github.com/Public-Health-Bioinformatics/snakemake_demo.git"
   ]
  },
  {
   "cell_type": "code",
   "execution_count": 1,
   "id": "assured-worry",
   "metadata": {},
   "outputs": [
    {
     "name": "stdout",
     "output_type": "stream",
     "text": [
      "bash: cd: snakemake_demo/demo_example/example_1/: No such file or directory\n",
      "/home/dj/snakemake_demo_work/snakemake_demo\n"
     ]
    }
   ],
   "source": [
    "cd snakemake_demo/demo_example/example_1/"
   ]
  },
  {
   "cell_type": "code",
   "execution_count": 2,
   "id": "resistant-division",
   "metadata": {},
   "outputs": [
    {
     "name": "stdout",
     "output_type": "stream",
     "text": [
      "/home/dj/snakemake_demo_work/snakemake_demo\n"
     ]
    }
   ],
   "source": [
    "pwd"
   ]
  },
  {
   "cell_type": "markdown",
   "id": "minor-fruit",
   "metadata": {},
   "source": [
    "Let's do a dry run first."
   ]
  },
  {
   "cell_type": "code",
   "execution_count": null,
   "id": "tough-angle",
   "metadata": {},
   "outputs": [],
   "source": [
    "snakemake -n -p"
   ]
  },
  {
   "cell_type": "markdown",
   "id": "imported-peripheral",
   "metadata": {},
   "source": [
    "Let's do a actual run"
   ]
  },
  {
   "cell_type": "code",
   "execution_count": null,
   "id": "focal-istanbul",
   "metadata": {},
   "outputs": [],
   "source": [
    "snakemake -j 1"
   ]
  },
  {
   "cell_type": "markdown",
   "id": "mobile-jackson",
   "metadata": {},
   "source": [
    "### Example 1.2\n"
   ]
  },
  {
   "cell_type": "code",
   "execution_count": null,
   "id": "lined-machinery",
   "metadata": {},
   "outputs": [],
   "source": [
    "After we copy the file, how can we change all the letters to upcase?"
   ]
  },
  {
   "cell_type": "code",
   "execution_count": null,
   "id": "incorrect-referral",
   "metadata": {},
   "outputs": [],
   "source": [
    "```\n",
    "rule copy:\n",
    "    input:\n",
    "        \"A_input.txt\"\n",
    "    output:\n",
    "        \"A_copy.txt\"\n",
    "    shell:\n",
    "        \"cp {input} {output}\"\n",
    "\n",
    "rule uppercase:\n",
    "    input:\n",
    "        \"A_copy.txt\"\n",
    "    output:\n",
    "        \"A_output.txt\"\n",
    "    shell:\n",
    "        \"dd if={input} of={output} conv=ucase\"\n",
    "\n",
    "```"
   ]
  },
  {
   "cell_type": "code",
   "execution_count": 20,
   "id": "severe-extent",
   "metadata": {},
   "outputs": [
    {
     "name": "stdout",
     "output_type": "stream",
     "text": [
      "\u001b[33mBuilding DAG of jobs...\u001b[0m\n",
      "\u001b[33mNothing to be done.\u001b[0m\n",
      "\u001b[33mComplete log: /home/dj/snakemake_demo/demo/example_1/.snakemake/log/2021-01-20T175530.945759.snakemake.log\u001b[0m\n",
      "(snakemake_demo) "
     ]
    },
    {
     "ename": "",
     "evalue": "1",
     "output_type": "error",
     "traceback": []
    }
   ],
   "source": [
    "snakemake -j 1 -s example_snakefile_1.1 A_output.txt"
   ]
  },
  {
   "cell_type": "markdown",
   "id": "interim-therapist",
   "metadata": {},
   "source": [
    "#### Generate DAG graph\n",
    "Snakemake is able to create a directed acyclic graph (DAG) that represents a plan of rule executions. The nodes of the DAG are jobs, a directed edge means the dependency.\n",
    "\n",
    "First, make sure graphviz is installed. If not, you can install it like this:\n"
   ]
  },
  {
   "cell_type": "code",
   "execution_count": null,
   "id": "advanced-civilization",
   "metadata": {},
   "outputs": [],
   "source": [
    "conda install graphviz -f"
   ]
  },
  {
   "cell_type": "markdown",
   "id": "graduate-nevada",
   "metadata": {},
   "source": [
    "Then you can generate the DAG graph:"
   ]
  },
  {
   "cell_type": "code",
   "execution_count": null,
   "id": "strong-electronics",
   "metadata": {},
   "outputs": [],
   "source": [
    "snakemake -s example1.2_snakefile --dag  | dot -Tpng > dag.png"
   ]
  },
  {
   "cell_type": "markdown",
   "id": "consolidated-canyon",
   "metadata": {},
   "source": [
    "### Example 1.3"
   ]
  },
  {
   "cell_type": "markdown",
   "id": "classified-commonwealth",
   "metadata": {},
   "source": [
    "What should we do if we have multipe files to process like A_input.txt, B_input.txt, C_input.txt ..."
   ]
  },
  {
   "cell_type": "code",
   "execution_count": null,
   "id": "undefined-castle",
   "metadata": {},
   "outputs": [],
   "source": [
    "```\n",
    "rule copy:\n",
    "    input:\n",
    "        \"{file}_input.txt\"\n",
    "    output:\n",
    "        \"{file}_copy.txt\"\n",
    "    shell:\n",
    "        \"cp {input} {output}\"\n",
    "\n",
    "rule uppercase:\n",
    "    input:\n",
    "        \"{file}_copy.txt\"\n",
    "    output:\n",
    "        \"{file}_output.txt\"\n",
    "    shell:\n",
    "        \"dd if={input} of={output} conv=ucase\"\n",
    "        \n",
    "```"
   ]
  },
  {
   "cell_type": "markdown",
   "id": "completed-integrity",
   "metadata": {},
   "source": [
    "First, let's look at the DAG graph"
   ]
  },
  {
   "cell_type": "code",
   "execution_count": null,
   "id": "royal-speaking",
   "metadata": {},
   "outputs": [],
   "source": [
    "snakemake -s example1.3_snakefile --dag {A,B,C}_output.txt | dot -Tpng > dag.png"
   ]
  },
  {
   "cell_type": "code",
   "execution_count": null,
   "id": "numerous-instruction",
   "metadata": {},
   "outputs": [],
   "source": [
    "We can also do a dry run:"
   ]
  },
  {
   "cell_type": "code",
   "execution_count": null,
   "id": "proud-living",
   "metadata": {},
   "outputs": [],
   "source": [
    "snakemake -s example1.3_snakefile -n -p  {A,B,C}_output.txt"
   ]
  },
  {
   "cell_type": "markdown",
   "id": "numerous-building",
   "metadata": {},
   "source": [
    "### Example 1.4"
   ]
  },
  {
   "cell_type": "code",
   "execution_count": null,
   "id": "civic-strike",
   "metadata": {},
   "outputs": [],
   "source": [
    "Another way of doing above jobs"
   ]
  },
  {
   "cell_type": "code",
   "execution_count": null,
   "id": "flush-macintosh",
   "metadata": {},
   "outputs": [],
   "source": [
    "```\n",
    "datasets=[\"A\",\"B\",\"C\"]\n",
    "\n",
    "rule all:\n",
    "    input: \"all.txt\"\n",
    "        \n",
    "\n",
    "rule copy:\n",
    "    input:\n",
    "        \"{file}_input.txt\"\n",
    "    output:\n",
    "        \"{file}_copy.txt\"\n",
    "    shell:\n",
    "        \"cp {input} {output}\"\n",
    "\n",
    "rule uppercase:\n",
    "    input:\n",
    "        \"{file}_copy.txt\"\n",
    "    output:\n",
    "        \"{file}_output.txt\"\n",
    "    shell:\n",
    "        \"dd if={input} of={output} conv=ucase\"\n",
    "        \n",
    "rule combine:\n",
    "    input:\n",
    "        expand(\"{id}_output.txt\", id=datasets)\n",
    "    output:\n",
    "        \"all.txt\"\n",
    "    shell:\n",
    "        \"cat {input} > {output}\"\n",
    "        \n",
    "```"
   ]
  },
  {
   "cell_type": "code",
   "execution_count": null,
   "id": "faced-spine",
   "metadata": {},
   "outputs": [],
   "source": [
    "snakemake -s example1.4_snakefile --dag | dot -Tpng > dag.png"
   ]
  },
  {
   "cell_type": "code",
   "execution_count": null,
   "id": "improved-rhythm",
   "metadata": {},
   "outputs": [],
   "source": [
    "snakemake -s example1.4_snakefile -np"
   ]
  },
  {
   "cell_type": "markdown",
   "id": "ecological-lucas",
   "metadata": {},
   "source": [
    "We can also put multiple dataset to expand. For example:\n",
    "\n",
    "expand([\"{dataset}.{ext}\", \"{dataset}.{ext}\"], dataset=[A1,A2], ext=[png,jpg])\n",
    "\n",
    "will lead to\n",
    "\n",
    "[\"A1.png\", \"A1.jpg\", \"A2.png\",\"A2.jpg\"]\n"
   ]
  },
  {
   "cell_type": "markdown",
   "id": "vocational-asian",
   "metadata": {},
   "source": [
    "We can generate snakemake report to get details about the running status. Before this, please make sure Jinja2, networkx, pygments and pygraphvi is installed. If not, please install it using conda.\n"
   ]
  },
  {
   "cell_type": "code",
   "execution_count": null,
   "id": "literary-dialogue",
   "metadata": {},
   "outputs": [],
   "source": [
    "conda install networkx pygraphvi Jinja2 pygments -y"
   ]
  },
  {
   "cell_type": "code",
   "execution_count": null,
   "id": "floppy-commercial",
   "metadata": {},
   "outputs": [],
   "source": [
    "snakemake -s example1.4_snakefile --report report.html"
   ]
  },
  {
   "cell_type": "markdown",
   "id": "hawaiian-music",
   "metadata": {},
   "source": [
    "### 3. More examples for data analysis"
   ]
  },
  {
   "cell_type": "markdown",
   "id": "consolidated-nickname",
   "metadata": {},
   "source": [
    "### Example 2.1\n",
    "\n",
    "#### Use fastqc generate QC report (example_2.1)\n"
   ]
  },
  {
   "cell_type": "code",
   "execution_count": null,
   "id": "veterinary-proposition",
   "metadata": {},
   "outputs": [],
   "source": [
    "cd snakemake_demo/demo_example/example_2"
   ]
  },
  {
   "cell_type": "code",
   "execution_count": null,
   "id": "revised-victim",
   "metadata": {},
   "outputs": [],
   "source": [
    "```\n",
    "SAMPLES = [\"Sample1\", \"Sample2\", \"Sample3\"]\n",
    "\n",
    "\n",
    "rule fastqc: \n",
    "    input: \n",
    "        expand(\"data/{sample}.fastq\", sample=SAMPLES)\n",
    "    output:\n",
    "        expand(\"data/{sample}_fastqc.html\", sample=SAMPLES)\n",
    "    conda: \n",
    "        \"env.yml\"\n",
    "    params: \n",
    "        threads = \"1\"\n",
    "    shell:\n",
    "        \"fastqc -t {params.threads} {input}\"\n",
    "        \n",
    "```\n"
   ]
  },
  {
   "cell_type": "code",
   "execution_count": null,
   "id": "described-mustang",
   "metadata": {},
   "outputs": [],
   "source": [
    "snakemake -s example2.1_snakefile --dag | dot -Tpng > dag.png"
   ]
  },
  {
   "cell_type": "code",
   "execution_count": null,
   "id": "going-jacket",
   "metadata": {},
   "outputs": [],
   "source": [
    "snakemake -s example2.1_snakefile -np"
   ]
  },
  {
   "cell_type": "markdown",
   "id": "frank-speech",
   "metadata": {},
   "source": [
    "#### Use multiqc to aggregate QC results (example_2.2)"
   ]
  },
  {
   "cell_type": "code",
   "execution_count": null,
   "id": "seasonal-saudi",
   "metadata": {},
   "outputs": [],
   "source": [
    "```\n",
    "SAMPLES = [\"Sample1\", \"Sample2\", \"Sample3\"]\n",
    "\n",
    "rule all:\n",
    "    input:\n",
    "        \"multiqc_result/multiqc_report.html\",\n",
    "\n",
    "rule fastqc: \n",
    "    input: \n",
    "        expand(\"data/{sample}.fastq\", sample=SAMPLES)\n",
    "    output:\n",
    "        expand(\"data/{sample}_fastqc.html\", sample=SAMPLES)\n",
    "    conda: \n",
    "        \"env.yml\"\n",
    "    params: \n",
    "        threads = \"3\"\n",
    "    shell:\n",
    "        \"fastqc -t {params.threads} {input}\"\n",
    "\n",
    "rule multiqc: \n",
    "    input: \n",
    "        expand(\"data/{sample}_fastqc.html\", sample=SAMPLES)\n",
    "    output:\n",
    "        \"multiqc_result/multiqc_report.html\"\n",
    "    conda: \n",
    "        \"env.yml\"\n",
    "    shell:\n",
    "        \"multiqc data -o multiqc_result\"\n",
    "        \n",
    "```"
   ]
  },
  {
   "cell_type": "code",
   "execution_count": null,
   "id": "maritime-soviet",
   "metadata": {},
   "outputs": [],
   "source": [
    "snakemake -s example2.2_snakefile --dag | dot -Tpng > dag.png"
   ]
  },
  {
   "cell_type": "code",
   "execution_count": null,
   "id": "intended-jewelry",
   "metadata": {},
   "outputs": [],
   "source": [
    "snakemake -s example2.2_snakefile -np"
   ]
  },
  {
   "cell_type": "markdown",
   "id": "original-brand",
   "metadata": {},
   "source": [
    "### Use glob_wildcards (example_2.3)"
   ]
  },
  {
   "cell_type": "code",
   "execution_count": null,
   "id": "concerned-replacement",
   "metadata": {},
   "outputs": [],
   "source": [
    "```\n",
    "SAMPLES, = glob_wildcards(\"data/{sample}.fastq\")\n",
    "\n",
    "rule all:\n",
    "    input:\n",
    "        \"multiqc_result/multiqc_report.html\",\n",
    "\n",
    "rule fastqc: \n",
    "    input: \n",
    "        expand(\"data/{sample}.fastq\", sample=SAMPLES)\n",
    "    output:\n",
    "        expand(\"data/{sample}_fastqc.html\", sample=SAMPLES)\n",
    "    conda: \n",
    "        \"env.yml\"\n",
    "    params: \n",
    "        threads = \"3\"\n",
    "    shell:\n",
    "        \"fastqc -t {params.threads} {input}\"\n",
    "\n",
    "rule multiqc: \n",
    "    input: \n",
    "        expand(\"data/{sample}_fastqc.html\", sample=SAMPLES)\n",
    "    output:\n",
    "        \"multiqc_result/multiqc_report.html\"\n",
    "    conda: \n",
    "        \"env.yml\"\n",
    "    shell:\n",
    "        \"multiqc data -o multiqc_result\"\n",
    "```"
   ]
  },
  {
   "cell_type": "code",
   "execution_count": null,
   "id": "periodic-complex",
   "metadata": {},
   "outputs": [],
   "source": [
    "snakemake -s example2.3_snakefile --dag | dot -Tpng > dag.png"
   ]
  },
  {
   "cell_type": "code",
   "execution_count": null,
   "id": "detected-lawrence",
   "metadata": {},
   "outputs": [],
   "source": [
    "snakemake -s example2.3_snakefile -np"
   ]
  },
  {
   "cell_type": "markdown",
   "id": "theoretical-bottle",
   "metadata": {},
   "source": [
    "## Resources"
   ]
  },
  {
   "cell_type": "markdown",
   "id": "ambient-ghana",
   "metadata": {},
   "source": [
    "### 1. Snakemake\n",
    "* Documentation: https://snakemake.readthedocs.io/\n",
    "*  Wrappers: https://snakemake-wrappers.readthedocs.io/\n",
    "* Snakemake-Workflows project: https://github.com/snakemake-workflows/docs\n",
    "*  Snakemake-Profiles project: https://github.com/snakemake-profiles/doc\n"
   ]
  },
  {
   "cell_type": "markdown",
   "id": "coated-jacket",
   "metadata": {},
   "source": [
    "### 2. Workflows\n",
    "* An incomplete list of 288 Computational Data Analysis Workflow Systems:\n",
    "https://github.com/common-workflow-language/common-workflow-language/wiki/Existing-Workflow-systems\n",
    "* A curated list of awesome pipeline toolkits:\n",
    "https://github.com/pditommaso/awesome-pipeline"
   ]
  },
  {
   "cell_type": "code",
   "execution_count": null,
   "id": "general-muslim",
   "metadata": {},
   "outputs": [],
   "source": []
  }
 ],
 "metadata": {
  "kernelspec": {
   "display_name": "Bash",
   "language": "bash",
   "name": "bash"
  },
  "language_info": {
   "codemirror_mode": "shell",
   "file_extension": ".sh",
   "mimetype": "text/x-sh",
   "name": "bash"
  }
 },
 "nbformat": 4,
 "nbformat_minor": 5
}
